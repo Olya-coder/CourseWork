{
 "cells": [
  {
   "cell_type": "code",
   "execution_count": 1,
   "id": "9a621d03-b584-495f-8ba9-7e6ae19a79de",
   "metadata": {},
   "outputs": [],
   "source": [
    "#Run necessary imports \n",
    "import cv2\n",
    "import math\n",
    "import numpy as np\n",
    "from matplotlib import pyplot as plt\n",
    "plt.rcParams['figure.figsize'] = [15, 10]"
   ]
  },
  {
   "cell_type": "code",
   "execution_count": null,
   "id": "432bb1ce-1792-4c89-8291-6893806a7a43",
   "metadata": {},
   "outputs": [],
   "source": [
    "#Initialization tracker\n",
    "video = cv2.VideoCapture('desktop/desktop/139_medium.mp4')\n",
    "\n",
    "tracker = cv2.TrackerKCF.create\n",
    "ret, frame = video.read()\n",
    "bbox = cv2.selectROI(frame)"
   ]
  },
  {
   "cell_type": "code",
   "execution_count": null,
   "id": "9c6dd6e4-f09a-48d3-a386-153eb1146946",
   "metadata": {},
   "outputs": [],
   "source": [
    "# Read a new frame\n",
    "ret, frame = video.read()\n",
    "\n",
    "# Draw the bounding box before tracking\n",
    "cv2.rectangle(frame, (int(bbox[0]), int(bbox[1])), (int(bbox[0] + bbox[2]), int(bbox[1] + bbox[3])), (255, 0, 0), 2)\n",
    "\n",
    "# Update the tracker\n",
    "success_kcf, bbox_kcf = tracker_kcf.update(frame)\n",
    "\n",
    "\n",
    "# Draw the bounding box after tracking\n",
    "if success_kcf:\n",
    "    cv2.rectangle(frame, (int(bbox_kcf[0]), int(bbox_kcf[1])), (int(bbox_kcf[0] + bbox_kcf[2]), int(bbox_kcf[1] + bbox_kcf[3])), (0, 255, 0), 2)\n",
    "\n",
    "\n",
    "# Display the frame\n",
    "cv2.imshow('Frame', frame)\n",
    "\n",
    "\n",
    "tracker_kcf.init(frame, bbox)"
   ]
  },
  {
   "cell_type": "code",
   "execution_count": null,
   "id": "15cac28b-2f7b-4545-b16f-713fbe2a52fb",
   "metadata": {},
   "outputs": [],
   "source": [
    "# Fast forward by 10 frames\n",
    "for _ in range(10):\n",
    "    ret, frame = video.read()\n",
    "    assert ret"
   ]
  },
  {
   "cell_type": "code",
   "execution_count": null,
   "id": "31287b3a-feff-4a2f-8981-d9369b4c35cd",
   "metadata": {},
   "outputs": [],
   "source": [
    "# Create an empty mask image for drawing purposes\n",
    "mask = np.zeros_like(source)\n",
    "    \n",
    "# Draw the tracks\n",
    "for i, (dst, src) in enumerate(zip(p_dst, p_src)):\n",
    "    x_dst, y_dst = dst\n",
    "    x_src, y_src = src\n",
    "    \n",
    "    mask = cv2.arrowedLine(mask, (int(x_src), int(y_src)), (int(x_dst), int(y_dst)),\n",
    "                           color[i].tolist(), 2, tipLength=0.5)    \n",
    "    target = cv2.circle(target, (int(x_src), int(y_src)), 5, color[i].tolist(), -1)\n",
    "\n",
    "result = cv2.add(target, mask)"
   ]
  },
  {
   "cell_type": "code",
   "execution_count": null,
   "id": "bdbafe6a-0d2b-48b6-913d-db0748f80843",
   "metadata": {},
   "outputs": [],
   "source": [
    "plt.subplot(121), plt.imshow(cv2.cvtColor(source, cv2.COLOR_BGR2RGB)), plt.title('Source')\n",
    "plt.subplot(122), plt.imshow(cv2.cvtColor(result, cv2.COLOR_BGR2RGB)), plt.title('Target')"
   ]
  },
  {
   "cell_type": "code",
   "execution_count": null,
   "id": "8dcdc1b1-622c-4719-bf19-1a605ba2719a",
   "metadata": {},
   "outputs": [],
   "source": [
    "tracker_csrt = cv2.TrackerCSRT.create\n",
    "# Update the tracker for CSRT\n",
    "success_csrt, bbox_csrt = tracker_csrt.update(frame)\n",
    "\n",
    "# Draw the bounding box after tracking\n",
    "if success_csrt:\n",
    "    cv2.rectangle(frame, (int(bbox_csrt[0]), int(bbox_csrt[1])), (int(bbox_csrt[0] + bbox_csrt[2]), int(bbox_csrt[1] + bbox_csrt[3])), (0, 0, 255), 2)\n",
    "\n",
    "# Display the frame\n",
    "cv2.imshow('Frame', frame)\n",
    "\n",
    "tracker_csrt.init(frame, bbox)"
   ]
  },
  {
   "cell_type": "code",
   "execution_count": null,
   "id": "c2782413-0b72-4e60-b16d-46ecc4081466",
   "metadata": {},
   "outputs": [],
   "source": [
    "# Fast forward by 10 frames\n",
    "for _ in range(10):\n",
    "    ret, frame = video.read()\n",
    "    assert ret"
   ]
  },
  {
   "cell_type": "code",
   "execution_count": null,
   "id": "47f03827-1d5f-40b1-8952-dd09c8b19ddf",
   "metadata": {},
   "outputs": [],
   "source": [
    "# Create an empty mask image for drawing purposes\n",
    "mask = np.zeros_like(source)\n",
    "    \n",
    "# Draw the tracks\n",
    "for i, (dst, src) in enumerate(zip(p_dst, p_src)):\n",
    "    x_dst, y_dst = dst\n",
    "    x_src, y_src = src\n",
    "    \n",
    "    mask = cv2.arrowedLine(mask, (int(x_src), int(y_src)), (int(x_dst), int(y_dst)),\n",
    "                           color[i].tolist(), 2, tipLength=0.5)    \n",
    "    target = cv2.circle(target, (int(x_src), int(y_src)), 5, color[i].tolist(), -1)\n",
    "\n",
    "result = cv2.add(target, mask)"
   ]
  },
  {
   "cell_type": "code",
   "execution_count": null,
   "id": "b034a0d2-505c-4aba-822c-fab9f2753275",
   "metadata": {},
   "outputs": [],
   "source": [
    "plt.subplot(121), plt.imshow(cv2.cvtColor(source, cv2.COLOR_BGR2RGB)), plt.title('Source')\n",
    "plt.subplot(122), plt.imshow(cv2.cvtColor(result, cv2.COLOR_BGR2RGB)), plt.title('Target')"
   ]
  }
 ],
 "metadata": {
  "kernelspec": {
   "display_name": "Python 3 (ipykernel)",
   "language": "python",
   "name": "python3"
  },
  "language_info": {
   "codemirror_mode": {
    "name": "ipython",
    "version": 3
   },
   "file_extension": ".py",
   "mimetype": "text/x-python",
   "name": "python",
   "nbconvert_exporter": "python",
   "pygments_lexer": "ipython3",
   "version": "3.11.9"
  }
 },
 "nbformat": 4,
 "nbformat_minor": 5
}
